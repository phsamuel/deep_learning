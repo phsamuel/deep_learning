{
 "cells": [
  {
   "cell_type": "markdown",
   "id": "qc2aBWFz-V5a",
   "metadata": {
    "id": "qc2aBWFz-V5a"
   },
   "source": [
    "# Attempt to forecast the price of MSFT by analyzing the prices of multiple stocks, including MSFT, over several consecutive days leading up to the target day.\n",
    "#### N.B. Different setup from HW1"
   ]
  },
  {
   "cell_type": "code",
   "execution_count": 1,
   "id": "4342abc3",
   "metadata": {
    "id": "4342abc3"
   },
   "outputs": [],
   "source": [
    "from torch.utils.data import DataLoader,Dataset\n",
    "\n",
    "class StockDataset(Dataset):\n",
    "    def __init__(self,X,Y,days):\n",
    "        self.X = X\n",
    "        self.Y = Y.reshape(-1)\n",
    "        self.days = days # days ahead for prediction\n",
    "\n",
    "    def __len__(self):\n",
    "        return (len(self.Y)-self.days)\n",
    "\n",
    "    def __getitem__(self,index):\n",
    "        x=self.X[:,index:index+self.days]\n",
    "        y=self.Y[index+self.days]\n",
    "        return x,y\n",
    "\n"
   ]
  },
  {
   "cell_type": "code",
   "execution_count": 2,
   "id": "f521af7d-ae88-4742-b390-31ecefbe39fe",
   "metadata": {
    "id": "5115ef2f"
   },
   "outputs": [],
   "source": [
    "# !pip install pandas\n",
    "# !pip install yfinance\n",
    "import numpy as np\n",
    "from numpy import exp, sum, log, log10\n",
    "import yfinance as yf\n",
    "import pandas as pd\n",
    "\n",
    "def get_price(tick,start='2020-01-01',end=None):\n",
    "    return yf.Ticker(tick).history(start=start,end=end)['Close']\n",
    "\n",
    "def get_prices(tickers,start='2020-01-01',end=None):\n",
    "    df=pd.DataFrame()\n",
    "    for s in tickers:\n",
    "        df[s]=get_price(s,start,end)\n",
    "    return df\n",
    "\n",
    "feature_stocks=['tsla','meta','nvda','amzn','nflx','gbtc','gdx','intc','dal','c','goog','aapl','msft','ibm','hp','orcl','sap','crm','hubs','twlo']\n",
    "predict_stock='msft'\n",
    "\n",
    "# getting data\n",
    "start_date='2020-01-01'\n",
    "\n",
    "allX=get_prices(feature_stocks,start=start_date)\n",
    "ally=get_prices([predict_stock],start=start_date)"
   ]
  },
  {
   "cell_type": "code",
   "execution_count": 7,
   "id": "312706b5-74fb-48cf-946d-7d342cc25c6b",
   "metadata": {
    "id": "5115ef2f"
   },
   "outputs": [],
   "source": [
    "import torch.utils.data as data\n",
    "import torch\n",
    "\n",
    "stockData = StockDataset(allX.to_numpy().transpose().astype(np.float32),ally.to_numpy().astype(np.float32),days=5)\n",
    "train_set_size = int(len(stockData)*0.7)\n",
    "valid_set_size = int(len(stockData)*0.2)\n",
    "test_set_size = len(stockData)-train_set_size-valid_set_size\n",
    "\n",
    "train_set, valid_set, test_set = data.random_split(stockData,[train_set_size,valid_set_size,test_set_size],\\\n",
    "                                              generator=torch.Generator().manual_seed(42))\n",
    "\n",
    "batch_size = train_set_size # use entire dataset as batch\n",
    "train_dataloader = DataLoader(train_set,batch_size=batch_size,shuffle=True)  # input:(20,5), label:1\n",
    "valid_dataloader = DataLoader(valid_set,batch_size=batch_size,shuffle=False)\n",
    "test_dataloader = DataLoader(test_set,batch_size=batch_size,shuffle=False)"
   ]
  },
  {
   "cell_type": "markdown",
   "id": "oML-tGn7BCde",
   "metadata": {
    "id": "oML-tGn7BCde"
   },
   "source": [
    "# 1. Build a simple MLP to forecast MSFT price using PyTorch Lightning."
   ]
  },
  {
   "cell_type": "markdown",
   "id": "buk5w_lGCqo7",
   "metadata": {
    "id": "buk5w_lGCqo7"
   },
   "source": [
    "#### You have total freedom of your MLP. But your MLP should take the last five day ($5 \\times 20=100$) prices as input and you have to add dropout into your network."
   ]
  },
  {
   "cell_type": "markdown",
   "id": "srXjIkTFBbWZ",
   "metadata": {
    "id": "srXjIkTFBbWZ"
   },
   "source": [
    "## 1a. Create a subclass of pytorch_lightning.LightningModule. It should include \\_\\_init\\_\\_, training_step, validation_step, configure_optimizers in the class. (6 points)"
   ]
  },
  {
   "cell_type": "markdown",
   "id": "ftwjM2QaDD3a",
   "metadata": {
    "id": "ftwjM2QaDD3a"
   },
   "source": [
    "## 1b. Create a subclass of pytorch_lightning.LightningDataModule. It should include \\_\\_init\\_\\_, train_dataloader, and val_dataloader in the class. (4 points)"
   ]
  },
  {
   "cell_type": "markdown",
   "id": "2vSgdTOoFI9e",
   "metadata": {
    "id": "2vSgdTOoFI9e"
   },
   "source": [
    "## 1c. Complete the rest of the code and train the model with 70% of the data. You should set aside 15% of the data each for validation and testing.  Show the training and validation MSE (5 points)"
   ]
  },
  {
   "cell_type": "markdown",
   "id": "iI-CmJsPJ1K2",
   "metadata": {
    "id": "iI-CmJsPJ1K2"
   },
   "source": [
    "# 2. Construct a 1-D CNN to forecast MSFT stock price. You are free to use any design, but your network must consist of at least one convolutional layer and one dropout layer. You can also extend the duration leading up to the target day by modifying the \"days\" argument in the StockDataset. But \"days\" should not be larger than 32. (10 points)\n"
   ]
  },
  {
   "cell_type": "markdown",
   "id": "ZATXfRlsH7U2",
   "metadata": {
    "id": "ZATXfRlsH7U2"
   },
   "source": [
    "# 3. Please try to enhance the performance of the previously created MLP or CNN by applying hyperparameter tuning. You can use tools such as W&B hyperparameter sweep, SMAP, Optuna, or similar packages to achieve this. You need to optimize at least two parameters, with the dropout rate being one of them. (5 points)\n",
    "\n",
    "\n",
    "\n",
    "\n",
    "\n",
    "\n",
    "\n",
    "\n",
    "\n",
    "\n"
   ]
  },
  {
   "cell_type": "code",
   "execution_count": null,
   "id": "1443b1c5-da7a-4ad2-9a2f-889739406966",
   "metadata": {},
   "outputs": [],
   "source": []
  }
 ],
 "metadata": {
  "colab": {
   "collapsed_sections": [
    "buk5w_lGCqo7",
    "srXjIkTFBbWZ",
    "2vSgdTOoFI9e",
    "iI-CmJsPJ1K2",
    "ZATXfRlsH7U2"
   ],
   "provenance": []
  },
  "kernelspec": {
   "display_name": "Python 3 (ipykernel)",
   "language": "python",
   "name": "python3"
  },
  "language_info": {
   "codemirror_mode": {
    "name": "ipython",
    "version": 3
   },
   "file_extension": ".py",
   "mimetype": "text/x-python",
   "name": "python",
   "nbconvert_exporter": "python",
   "pygments_lexer": "ipython3",
   "version": "3.10.12"
  }
 },
 "nbformat": 4,
 "nbformat_minor": 5
}
